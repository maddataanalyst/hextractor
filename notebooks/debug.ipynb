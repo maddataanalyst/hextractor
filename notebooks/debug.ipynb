{
 "cells": [
  {
   "cell_type": "markdown",
   "metadata": {},
   "source": [
    "# Lib imports"
   ]
  },
  {
   "cell_type": "code",
   "execution_count": 38,
   "metadata": {},
   "outputs": [],
   "source": [
    "import autoroot #noqa\n",
    "from langchain_community.graphs.graph_document import GraphDocument, Node, Relationship\n",
    "from langchain_experimental.graph_transformers import LLMGraphTransformer\n",
    "from langchain_core.documents import Document\n",
    "\n",
    "from langchain_openai import ChatOpenAI"
   ]
  },
  {
   "cell_type": "markdown",
   "metadata": {},
   "source": [
    "# LLM config"
   ]
  },
  {
   "cell_type": "code",
   "execution_count": null,
   "metadata": {},
   "outputs": [],
   "source": [
    "base_url = \"YOUR_BASE_URL\"\n",
    "api_key = \"YOUR_API_KEY\"\n",
    "\n",
    "llm = ChatOpenAI(base_url=base_url, api_key=api_key)"
   ]
  },
  {
   "cell_type": "markdown",
   "metadata": {},
   "source": [
    "# LLM Graph Transformer"
   ]
  },
  {
   "cell_type": "code",
   "execution_count": 7,
   "metadata": {},
   "outputs": [
    {
     "name": "stderr",
     "output_type": "stream",
     "text": [
      "/home/filip/miniconda3/envs/hextractor/lib/python3.11/site-packages/langchain_openai/chat_models/base.py:1547: UserWarning: Cannot use method='json_schema' with model gpt-3.5-turbo since it doesn't support OpenAI's Structured Output API. You can see supported models here: https://platform.openai.com/docs/guides/structured-outputs#supported-models. To fix this warning, set `method='function_calling'. Overriding to method='function_calling'.\n",
      "  warnings.warn(\n"
     ]
    }
   ],
   "source": [
    "no_schema = LLMGraphTransformer(llm=llm)"
   ]
  },
  {
   "cell_type": "code",
   "execution_count": 9,
   "metadata": {},
   "outputs": [],
   "source": [
    "text = \"\"\"Filip Wójcik and Marcin Malczewski are data scientists, who developed HeXtractor. It is a library\n",
    "that helps in extracting heterogeneous knowledge graphs from various data source.\n",
    "Heterogeneous knowledge graphs are graphs that contain different types of nodes and edges.\"\"\"\n",
    "\n",
    "docs = [Document(page_content=text)]"
   ]
  },
  {
   "cell_type": "code",
   "execution_count": 10,
   "metadata": {},
   "outputs": [],
   "source": [
    "data = await no_schema.aconvert_to_graph_documents(docs)"
   ]
  },
  {
   "cell_type": "code",
   "execution_count": 11,
   "metadata": {},
   "outputs": [
    {
     "data": {
      "text/plain": [
       "[GraphDocument(nodes=[Node(id='Filip Wójcik', type='Person', properties={}), Node(id='Marcin Malczewski', type='Person', properties={}), Node(id='Hextractor', type='Library', properties={}), Node(id='Heterogeneous Knowledge Graphs', type='Graph', properties={})], relationships=[Relationship(source=Node(id='Filip Wójcik', type='Person', properties={}), target=Node(id='Hextractor', type='Library', properties={}), type='DEVELOPER', properties={}), Relationship(source=Node(id='Marcin Malczewski', type='Person', properties={}), target=Node(id='Hextractor', type='Library', properties={}), type='DEVELOPER', properties={}), Relationship(source=Node(id='Hextractor', type='Library', properties={}), target=Node(id='Heterogeneous Knowledge Graphs', type='Graph', properties={}), type='HELPS_EXTRACT', properties={})], source=Document(metadata={}, page_content='Filip Wójcik and Marcin Malczewski are data scientists, who developed HeXtractor. It is a library\\nthat helps in extracting heterogeneous knowledge graphs from various data source.\\nHeterogeneous knowledge graphs are graphs that contain different types of nodes and edges.'))]"
      ]
     },
     "execution_count": 11,
     "metadata": {},
     "output_type": "execute_result"
    }
   ],
   "source": [
    "data"
   ]
  },
  {
   "cell_type": "code",
   "execution_count": 16,
   "metadata": {},
   "outputs": [
    {
     "name": "stdout",
     "output_type": "stream",
     "text": [
      "id='Filip Wójcik' type='Person' properties={}\n",
      "id='Marcin Malczewski' type='Person' properties={}\n",
      "id='Hextractor' type='Library' properties={}\n",
      "id='Heterogeneous Knowledge Graphs' type='Graph' properties={}\n"
     ]
    }
   ],
   "source": [
    "graph_doc = data[0]\n",
    "for node in graph_doc.nodes:\n",
    "    print(node)"
   ]
  },
  {
   "cell_type": "code",
   "execution_count": 17,
   "metadata": {},
   "outputs": [
    {
     "name": "stdout",
     "output_type": "stream",
     "text": [
      "source=Node(id='Filip Wójcik', type='Person', properties={}) target=Node(id='Hextractor', type='Library', properties={}) type='DEVELOPER' properties={}\n",
      "source=Node(id='Marcin Malczewski', type='Person', properties={}) target=Node(id='Hextractor', type='Library', properties={}) type='DEVELOPER' properties={}\n",
      "source=Node(id='Hextractor', type='Library', properties={}) target=Node(id='Heterogeneous Knowledge Graphs', type='Graph', properties={}) type='HELPS_EXTRACT' properties={}\n"
     ]
    }
   ],
   "source": [
    "for rel in graph_doc.relationships:\n",
    "   print(rel) "
   ]
  },
  {
   "cell_type": "code",
   "execution_count": 52,
   "metadata": {},
   "outputs": [],
   "source": [
    "from hextractor.integrations.langchain_graphdoc import convert_graph_document_to_hetero_data\n",
    "hetero_data = convert_graph_document_to_hetero_data(graph_doc)\n"
   ]
  },
  {
   "cell_type": "code",
   "execution_count": 53,
   "metadata": {},
   "outputs": [
    {
     "data": {
      "text/plain": [
       "HeteroData(\n",
       "  Person={ x=[2, 1] },\n",
       "  Library={ x=[1, 1] },\n",
       "  Graph={ x=[1, 1] },\n",
       "  (Library, HELPS_EXTRACT, Graph)={ edge_index=[2, 1] },\n",
       "  (Person, DEVELOPER, Library)={ edge_index=[2, 2] }\n",
       ")"
      ]
     },
     "execution_count": 53,
     "metadata": {},
     "output_type": "execute_result"
    }
   ],
   "source": [
    "hetero_data"
   ]
  },
  {
   "cell_type": "code",
   "execution_count": 54,
   "metadata": {},
   "outputs": [],
   "source": [
    "doc = Document(page_content=\"Michael Scott knows Pam and Elon Musk.\")\n",
    "node_michael = Node(id=\"Michael Scott\", type=\"Person\")\n",
    "node_pam = Node(id=\"Pam\", type=\"Person\")\n",
    "node_elon_musk = Node(id=\"Elon Musk\", type=\"Person\")\n",
    "\n",
    "\n",
    "invalid_gd = GraphDocument(\n",
    "    nodes=[\n",
    "        node_michael,\n",
    "        node_pam,\n",
    "    ],\n",
    "    relationships=[\n",
    "        Relationship(source=node_michael, target=node_pam, type=\"knows\"),\n",
    "        Relationship(source=node_michael, target=node_elon_musk, type=\"knows\"),\n",
    "    ],\n",
    "    source=doc\n",
    ")"
   ]
  },
  {
   "cell_type": "code",
   "execution_count": 55,
   "metadata": {},
   "outputs": [
    {
     "ename": "ValueError",
     "evalue": "Unknown target node: Elon Musk of type Person",
     "output_type": "error",
     "traceback": [
      "\u001b[0;31m---------------------------------------------------------------------------\u001b[0m",
      "\u001b[0;31mValueError\u001b[0m                                Traceback (most recent call last)",
      "Cell \u001b[0;32mIn[55], line 1\u001b[0m\n\u001b[0;32m----> 1\u001b[0m invlid_hetero_g \u001b[38;5;241m=\u001b[39m \u001b[43mconvert_graph_document_to_hetero_data\u001b[49m\u001b[43m(\u001b[49m\u001b[43minvalid_gd\u001b[49m\u001b[43m)\u001b[49m\n",
      "File \u001b[0;32m~/projects/hextractor/hextractor/integrations/langchain_graphdoc.py:225\u001b[0m, in \u001b[0;36mconvert_graph_document_to_hetero_data\u001b[0;34m(graph_doc)\u001b[0m\n\u001b[1;32m    222\u001b[0m edge_types \u001b[38;5;241m=\u001b[39m extract_edge_types(graph_doc)\n\u001b[1;32m    224\u001b[0m \u001b[38;5;66;03m# Step 5: Create edge indices for each edge type\u001b[39;00m\n\u001b[0;32m--> 225\u001b[0m \u001b[43mcreate_edge_indices\u001b[49m\u001b[43m(\u001b[49m\u001b[43mdata\u001b[49m\u001b[43m,\u001b[49m\u001b[43m \u001b[49m\u001b[43mgraph_doc\u001b[49m\u001b[43m,\u001b[49m\u001b[43m \u001b[49m\u001b[43medge_types\u001b[49m\u001b[43m,\u001b[49m\u001b[43m \u001b[49m\u001b[43mnode_id_mapping\u001b[49m\u001b[43m)\u001b[49m\n\u001b[1;32m    227\u001b[0m \u001b[38;5;28;01mreturn\u001b[39;00m data\n",
      "File \u001b[0;32m~/projects/hextractor/hextractor/integrations/langchain_graphdoc.py:170\u001b[0m, in \u001b[0;36mcreate_edge_indices\u001b[0;34m(data, graph_doc, edge_types, node_id_mapping)\u001b[0m\n\u001b[1;32m    168\u001b[0m target_key \u001b[38;5;241m=\u001b[39m (target_type, rel\u001b[38;5;241m.\u001b[39mtarget\u001b[38;5;241m.\u001b[39mid)\n\u001b[1;32m    169\u001b[0m \u001b[38;5;28;01mif\u001b[39;00m target_key \u001b[38;5;129;01mnot\u001b[39;00m \u001b[38;5;129;01min\u001b[39;00m node_id_mapping:\n\u001b[0;32m--> 170\u001b[0m     \u001b[38;5;28;01mraise\u001b[39;00m \u001b[38;5;167;01mValueError\u001b[39;00m(\u001b[38;5;124mf\u001b[39m\u001b[38;5;124m\"\u001b[39m\u001b[38;5;124mUnknown target node: \u001b[39m\u001b[38;5;132;01m{\u001b[39;00mrel\u001b[38;5;241m.\u001b[39mtarget\u001b[38;5;241m.\u001b[39mid\u001b[38;5;132;01m}\u001b[39;00m\u001b[38;5;124m of type \u001b[39m\u001b[38;5;132;01m{\u001b[39;00mtarget_type\u001b[38;5;132;01m}\u001b[39;00m\u001b[38;5;124m\"\u001b[39m)\n\u001b[1;32m    172\u001b[0m \u001b[38;5;66;03m# Get type-specific source and target indices\u001b[39;00m\n\u001b[1;32m    173\u001b[0m source_idx \u001b[38;5;241m=\u001b[39m node_id_mapping[source_key]\n",
      "\u001b[0;31mValueError\u001b[0m: Unknown target node: Elon Musk of type Person"
     ]
    }
   ],
   "source": [
    "invlid_hetero_g = convert_graph_document_to_hetero_data(invalid_gd)"
   ]
  }
 ],
 "metadata": {
  "kernelspec": {
   "display_name": "hextractor",
   "language": "python",
   "name": "python3"
  },
  "language_info": {
   "codemirror_mode": {
    "name": "ipython",
    "version": 3
   },
   "file_extension": ".py",
   "mimetype": "text/x-python",
   "name": "python",
   "nbconvert_exporter": "python",
   "pygments_lexer": "ipython3",
   "version": "3.11.9"
  }
 },
 "nbformat": 4,
 "nbformat_minor": 2
}
