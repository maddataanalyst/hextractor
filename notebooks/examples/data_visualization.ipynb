{
 "cells": [
  {
   "cell_type": "markdown",
   "metadata": {},
   "source": [
    "# Intro\n",
    "\n",
    "This notebook presents the visualization capabilities of the Hextractor library. It assumes, that the heterogeneous graph has already been constructed."
   ]
  },
  {
   "cell_type": "markdown",
   "metadata": {},
   "source": [
    "# Lib imports"
   ]
  },
  {
   "cell_type": "code",
   "execution_count": 1,
   "metadata": {},
   "outputs": [],
   "source": [
    "import rootutils\n",
    "import autoroot"
   ]
  },
  {
   "cell_type": "code",
   "execution_count": 2,
   "metadata": {},
   "outputs": [],
   "source": [
    "import torch_geometric.data as pyg_data\n",
    "import torch as th\n",
    "import hextractor.structures as structures\n",
    "import hextractor.visualization as viz"
   ]
  },
  {
   "cell_type": "markdown",
   "metadata": {},
   "source": [
    "# Hetero graph"
   ]
  },
  {
   "cell_type": "code",
   "execution_count": 3,
   "metadata": {},
   "outputs": [],
   "source": [
    "academic_graph = pyg_data.HeteroData()\n",
    "academic_graph['author'].x = th.tensor([\n",
    "    [0],\n",
    "    [1],\n",
    "    [2]\n",
    "])\n",
    "\n",
    "academic_graph['paper'].x = th.tensor([\n",
    "    [0],\n",
    "    [1]\n",
    "])\n",
    "\n",
    "\n",
    "academic_graph['university'].x = th.tensor([\n",
    "    [0],\n",
    "    [1],\n",
    "    [2]\n",
    "])\n",
    "\n",
    "academic_graph['author', 'writes', 'paper'].edge_index = th.tensor([\n",
    "    [0, 0],\n",
    "    [1, 0],\n",
    "    [2, 1]\n",
    "]).T\n",
    "\n",
    "academic_graph['author', 'affiliated', 'university'].edge_index = th.tensor([\n",
    "    [0, 0],\n",
    "    [1, 1],\n",
    "    [2, 2]\n",
    "]).T\n"
   ]
  },
  {
   "cell_type": "markdown",
   "metadata": {},
   "source": [
    "# Visualization"
   ]
  },
  {
   "cell_type": "markdown",
   "metadata": {},
   "source": [
    "## Simple visualization\n",
    "\n",
    "Simples possible option, with no customization using node/edge attributes."
   ]
  },
  {
   "cell_type": "code",
   "execution_count": 4,
   "metadata": {},
   "outputs": [],
   "source": [
    "simple_cfg = dict(\n",
    "    node_types_to_colors=dict(\n",
    "        author='red',\n",
    "        paper='green',\n",
    "        university='blue'\n",
    "    ),\n",
    "    edge_type_to_colors={\n",
    "        ('author', 'writes', 'paper'): 'black',\n",
    "        ('author', 'affiliated', 'university'): 'purple'\n",
    "    },\n",
    "    notebook_visualization=True\n",
    ")\n",
    "\n",
    "simple_viz_cfg = structures.VisualizationConfig(**simple_cfg)"
   ]
  },
  {
   "cell_type": "code",
   "execution_count": 5,
   "metadata": {},
   "outputs": [],
   "source": [
    "from importlib import reload\n",
    "viz = reload(viz)"
   ]
  },
  {
   "cell_type": "code",
   "execution_count": 6,
   "metadata": {},
   "outputs": [
    {
     "name": "stdout",
     "output_type": "stream",
     "text": [
      "Warning: When  cdn_resources is 'local' jupyter notebook has issues displaying graphics on chrome/safari. Use cdn_resources='in_line' or cdn_resources='remote' if you have issues viewing graphics in a notebook.\n"
     ]
    }
   ],
   "source": [
    "simple_net_viz = viz.VisualizationBuilder.build_visualization(simple_viz_cfg, academic_graph)"
   ]
  },
  {
   "cell_type": "code",
   "execution_count": 7,
   "metadata": {},
   "outputs": [
    {
     "name": "stdout",
     "output_type": "stream",
     "text": [
      "simple_viz.html\n"
     ]
    },
    {
     "data": {
      "text/html": [
       "\n",
       "        <iframe\n",
       "            width=\"100%\"\n",
       "            height=\"600px\"\n",
       "            src=\"simple_viz.html\"\n",
       "            frameborder=\"0\"\n",
       "            allowfullscreen\n",
       "            \n",
       "        ></iframe>\n",
       "        "
      ],
      "text/plain": [
       "<IPython.lib.display.IFrame at 0x796435c3e390>"
      ]
     },
     "execution_count": 7,
     "metadata": {},
     "output_type": "execute_result"
    }
   ],
   "source": [
    "simple_net_viz.show(\"simple_viz.html\")"
   ]
  },
  {
   "cell_type": "code",
   "execution_count": null,
   "metadata": {},
   "outputs": [],
   "source": []
  }
 ],
 "metadata": {
  "kernelspec": {
   "display_name": "Python 3 (ipykernel)",
   "language": "python",
   "name": "python3"
  },
  "language_info": {
   "codemirror_mode": {
    "name": "ipython",
    "version": 3
   },
   "file_extension": ".py",
   "mimetype": "text/x-python",
   "name": "python",
   "nbconvert_exporter": "python",
   "pygments_lexer": "ipython3",
   "version": "3.11.9"
  }
 },
 "nbformat": 4,
 "nbformat_minor": 4
}
