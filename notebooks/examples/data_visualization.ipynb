{
 "cells": [
  {
   "cell_type": "markdown",
   "metadata": {},
   "source": [
    "# Intro\n",
    "\n",
    "This notebook presents the visualization capabilities of the Hextractor library. It assumes, that the heterogeneous graph has already been constructed."
   ]
  },
  {
   "cell_type": "markdown",
   "metadata": {},
   "source": [
    "# Lib imports"
   ]
  },
  {
   "cell_type": "code",
   "execution_count": 2,
   "metadata": {},
   "outputs": [],
   "source": [
    "import rootutils\n",
    "import autoroot"
   ]
  },
  {
   "cell_type": "code",
   "execution_count": 3,
   "metadata": {},
   "outputs": [],
   "source": [
    "import torch_geometric.data as pyg_data\n",
    "import torch as th\n",
    "import hextractor.structures as structures\n",
    "import hextractor.visualization as viz"
   ]
  },
  {
   "cell_type": "markdown",
   "metadata": {},
   "source": [
    "# Hetero graph"
   ]
  },
  {
   "cell_type": "code",
   "execution_count": 19,
   "metadata": {},
   "outputs": [],
   "source": [
    "academic_graph = pyg_data.HeteroData()\n",
    "academic_graph['author'].x = th.tensor([\n",
    "    [0],\n",
    "    [1],\n",
    "    [2]\n",
    "])\n",
    "\n",
    "academic_graph['paper'].x = th.tensor([\n",
    "    [0],\n",
    "    [1]\n",
    "])\n",
    "\n",
    "\n",
    "academic_graph['university'].x = th.tensor([\n",
    "    [0],\n",
    "    [1],\n",
    "    [2]\n",
    "])\n",
    "\n",
    "academic_graph['author', 'writes', 'paper'].edge_index = th.tensor([\n",
    "    [0, 0],\n",
    "    [1, 1],\n",
    "    [2, 1]\n",
    "]).T\n",
    "\n",
    "academic_graph['author', 'affiliated', 'university'].edge_index = th.tensor([\n",
    "    [0, 0],\n",
    "    [1, 1],\n",
    "    [2, 2]\n",
    "]).T\n"
   ]
  },
  {
   "cell_type": "code",
   "execution_count": 20,
   "metadata": {},
   "outputs": [],
   "source": [
    "node_label_mappings = {\n",
    "    \"author\": {\n",
    "        0: \"John Doe\",\n",
    "        1: \"Marcin Malczewski\",\n",
    "        2: \"Filip Wójcik\"\n",
    "    },\n",
    "    \"paper\": {\n",
    "        0: \"Some random paper\",\n",
    "        1: \"Hextractor paper\"\n",
    "    },\n",
    "    \"university\": {\n",
    "        0: \"Random Uni\",\n",
    "        1: \"Pwr\",\n",
    "        2: \"UE Wroc\"\n",
    "    }\n",
    "}"
   ]
  },
  {
   "cell_type": "markdown",
   "metadata": {},
   "source": [
    "# Visualization"
   ]
  },
  {
   "cell_type": "markdown",
   "metadata": {},
   "source": [
    "## Simple visualization\n",
    "\n",
    "Simples possible option, with no customization using node/edge attributes."
   ]
  },
  {
   "cell_type": "code",
   "execution_count": 21,
   "metadata": {},
   "outputs": [],
   "source": [
    "simple_cfg = dict(\n",
    "    node_types_to_colors=dict(\n",
    "        author='red',\n",
    "        paper='green',\n",
    "        university='blue'\n",
    "    ),\n",
    "    edge_type_to_colors={\n",
    "        ('author', 'writes', 'paper'): 'black',\n",
    "        ('author', 'affiliated', 'university'): 'purple'\n",
    "    },\n",
    "    node_type_label_attr_name={\"author\": \"x\", \"university\": \"x\", \"paper\": \"x\"},\n",
    "    node_type_label_attr_idx={\"author\": 0, \"university\": 0, \"paper\": 0},\n",
    "    notebook_visualization=True\n",
    ")\n",
    "\n",
    "simple_viz_cfg = structures.VisualizationConfig(**simple_cfg)"
   ]
  },
  {
   "cell_type": "code",
   "execution_count": 22,
   "metadata": {},
   "outputs": [
    {
     "data": {
      "text/plain": [
       "VisualizationConfig(node_types=(), node_types_to_colors={'author': 'red', 'paper': 'green', 'university': 'blue'}, node_type_label_attr_name={'author': 'x', 'university': 'x', 'paper': 'x'}, node_type_label_attr_idx={'author': 0, 'university': 0, 'paper': 0}, edge_types=(), edge_type_to_colors={('author', 'writes', 'paper'): 'black', ('author', 'affiliated', 'university'): 'purple'}, edge_type_weight_attr_name={}, edge_weights_attr_idx={}, default_node_color='blue', default_edge_color='black', default_edge_weight=1, default_edge_weight_attr=None, notebook_visualization=True)"
      ]
     },
     "execution_count": 22,
     "metadata": {},
     "output_type": "execute_result"
    }
   ],
   "source": [
    "simple_viz_cfg"
   ]
  },
  {
   "cell_type": "code",
   "execution_count": 23,
   "metadata": {},
   "outputs": [],
   "source": [
    "from importlib import reload\n",
    "viz = reload(viz)"
   ]
  },
  {
   "cell_type": "code",
   "execution_count": 24,
   "metadata": {},
   "outputs": [
    {
     "name": "stdout",
     "output_type": "stream",
     "text": [
      "Warning: When  cdn_resources is 'local' jupyter notebook has issues displaying graphics on chrome/safari. Use cdn_resources='in_line' or cdn_resources='remote' if you have issues viewing graphics in a notebook.\n"
     ]
    }
   ],
   "source": [
    "simple_net_viz = viz.VisualizationBuilder.build_visualization(simple_viz_cfg, academic_graph, node_label_mappings)"
   ]
  },
  {
   "cell_type": "markdown",
   "metadata": {},
   "source": [
    "<div style=\"padding: 15px; border: 1px solid transparent; border-color: transparent; margin-bottom: 20px; border-radius: 4px; color: #8a6d3b;; background-color: #fcf8e3; border-color: #faebcc;\">\n",
    "<b>Warning!</b> Visualization below may not work in VSCode notebooks not it is visible on Github notebook viewer. It should run fine in the Juypterlab/Colab/notebook. Please, check the created html file directly if you cannot see visualization below.\n",
    "</div>"
   ]
  },
  {
   "cell_type": "code",
   "execution_count": 25,
   "metadata": {},
   "outputs": [
    {
     "name": "stdout",
     "output_type": "stream",
     "text": [
      "simple_viz.html\n"
     ]
    },
    {
     "data": {
      "text/html": [
       "\n",
       "        <iframe\n",
       "            width=\"100%\"\n",
       "            height=\"600px\"\n",
       "            src=\"simple_viz.html\"\n",
       "            frameborder=\"0\"\n",
       "            allowfullscreen\n",
       "            \n",
       "        ></iframe>\n",
       "        "
      ],
      "text/plain": [
       "<IPython.lib.display.IFrame at 0x7f691ffc1a50>"
      ]
     },
     "execution_count": 25,
     "metadata": {},
     "output_type": "execute_result"
    }
   ],
   "source": [
    "simple_net_viz.show(\"simple_viz.html\")"
   ]
  },
  {
   "cell_type": "code",
   "execution_count": null,
   "metadata": {},
   "outputs": [],
   "source": []
  }
 ],
 "metadata": {
  "kernelspec": {
   "display_name": "hextractor_env",
   "language": "python",
   "name": "python3"
  },
  "language_info": {
   "codemirror_mode": {
    "name": "ipython",
    "version": 3
   },
   "file_extension": ".py",
   "mimetype": "text/x-python",
   "name": "python",
   "nbconvert_exporter": "python",
   "pygments_lexer": "ipython3",
   "version": "3.11.10"
  }
 },
 "nbformat": 4,
 "nbformat_minor": 4
}
