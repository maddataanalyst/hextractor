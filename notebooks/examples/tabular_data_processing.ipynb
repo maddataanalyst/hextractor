{
 "cells": [
  {
   "cell_type": "markdown",
   "metadata": {},
   "source": [
    "# Intro\n",
    "\n",
    "This notebook shows an example how to use HexTractor to transform tabular data to heterogeneous graph."
   ]
  },
  {
   "cell_type": "markdown",
   "metadata": {},
   "source": [
    "# Load libs"
   ]
  },
  {
   "cell_type": "code",
   "execution_count": 1,
   "metadata": {},
   "outputs": [],
   "source": [
    "import rootutils #noqa\n",
    "import autoroot #noqa"
   ]
  },
  {
   "cell_type": "code",
   "execution_count": null,
   "metadata": {},
   "outputs": [],
   "source": [
    "import pandas as pd\n",
    "import hextractor.data_sources as data_sources\n",
    "import hextractor.structures as structures\n",
    "import hextractor.extraction as hextract\n",
    "import hextractor.visualization as viz"
   ]
  },
  {
   "cell_type": "markdown",
   "metadata": {},
   "source": [
    "# Single-table data case\n",
    "\n",
    "We will start with the simples example - where all data is in a single table. The same entity (e.g. company) can be repeated mutliple times in the table - each row represents it relation with other entities e.g. company + employee. HexTractor will handle such duplication, extracting only unique entities and relations between them.\n",
    "\n",
    "As the data is duplicated across rows (e.g. the same company appears multiple times - as many, as employeer and other relations it has), the tool will have to de-duplicate it."
   ]
  },
  {
   "cell_type": "code",
   "execution_count": 3,
   "metadata": {},
   "outputs": [
    {
     "data": {
      "application/vnd.microsoft.datawrangler.viewer.v0+json": {
       "columns": [
        {
         "name": "index",
         "rawType": "int64",
         "type": "integer"
        },
        {
         "name": "company_id",
         "rawType": "int64",
         "type": "integer"
        },
        {
         "name": "company_employees",
         "rawType": "int64",
         "type": "integer"
        },
        {
         "name": "company_revenue",
         "rawType": "int64",
         "type": "integer"
        },
        {
         "name": "employee_id",
         "rawType": "int64",
         "type": "integer"
        },
        {
         "name": "employee_occupation",
         "rawType": "int64",
         "type": "integer"
        },
        {
         "name": "employee_age",
         "rawType": "int64",
         "type": "integer"
        },
        {
         "name": "employee_promotion",
         "rawType": "int64",
         "type": "integer"
        },
        {
         "name": "tags",
         "rawType": "object",
         "type": "unknown"
        }
       ],
       "conversionMethod": "pd.DataFrame",
       "ref": "ac996b46-2417-45e8-8ca5-c29f2bc2ed7e",
       "rows": [
        [
         "0",
         "1",
         "100",
         "1000",
         "0",
         "0",
         "25",
         "0",
         "[1, 2, 3]"
        ],
        [
         "1",
         "1",
         "100",
         "1000",
         "1",
         "1",
         "35",
         "1",
         "[1, 2]"
        ],
        [
         "2",
         "1",
         "100",
         "1000",
         "3",
         "3",
         "45",
         "0",
         "[3, 4]"
        ],
        [
         "3",
         "2",
         "5000",
         "100000",
         "4",
         "1",
         "18",
         "1",
         "[1, 4]"
        ],
        [
         "4",
         "2",
         "5000",
         "100000",
         "5",
         "1",
         "20",
         "1",
         "[1, 1]"
        ],
        [
         "5",
         "2",
         "5000",
         "100000",
         "6",
         "4",
         "31",
         "0",
         "[1, 2]"
        ]
       ],
       "shape": {
        "columns": 8,
        "rows": 6
       }
      },
      "text/html": [
       "<div>\n",
       "<style scoped>\n",
       "    .dataframe tbody tr th:only-of-type {\n",
       "        vertical-align: middle;\n",
       "    }\n",
       "\n",
       "    .dataframe tbody tr th {\n",
       "        vertical-align: top;\n",
       "    }\n",
       "\n",
       "    .dataframe thead th {\n",
       "        text-align: right;\n",
       "    }\n",
       "</style>\n",
       "<table border=\"1\" class=\"dataframe\">\n",
       "  <thead>\n",
       "    <tr style=\"text-align: right;\">\n",
       "      <th></th>\n",
       "      <th>company_id</th>\n",
       "      <th>company_employees</th>\n",
       "      <th>company_revenue</th>\n",
       "      <th>employee_id</th>\n",
       "      <th>employee_occupation</th>\n",
       "      <th>employee_age</th>\n",
       "      <th>employee_promotion</th>\n",
       "      <th>tags</th>\n",
       "    </tr>\n",
       "  </thead>\n",
       "  <tbody>\n",
       "    <tr>\n",
       "      <th>0</th>\n",
       "      <td>1</td>\n",
       "      <td>100</td>\n",
       "      <td>1000</td>\n",
       "      <td>0</td>\n",
       "      <td>0</td>\n",
       "      <td>25</td>\n",
       "      <td>0</td>\n",
       "      <td>[1, 2, 3]</td>\n",
       "    </tr>\n",
       "    <tr>\n",
       "      <th>1</th>\n",
       "      <td>1</td>\n",
       "      <td>100</td>\n",
       "      <td>1000</td>\n",
       "      <td>1</td>\n",
       "      <td>1</td>\n",
       "      <td>35</td>\n",
       "      <td>1</td>\n",
       "      <td>[1, 2]</td>\n",
       "    </tr>\n",
       "    <tr>\n",
       "      <th>2</th>\n",
       "      <td>1</td>\n",
       "      <td>100</td>\n",
       "      <td>1000</td>\n",
       "      <td>3</td>\n",
       "      <td>3</td>\n",
       "      <td>45</td>\n",
       "      <td>0</td>\n",
       "      <td>[3, 4]</td>\n",
       "    </tr>\n",
       "    <tr>\n",
       "      <th>3</th>\n",
       "      <td>2</td>\n",
       "      <td>5000</td>\n",
       "      <td>100000</td>\n",
       "      <td>4</td>\n",
       "      <td>1</td>\n",
       "      <td>18</td>\n",
       "      <td>1</td>\n",
       "      <td>[1, 4]</td>\n",
       "    </tr>\n",
       "    <tr>\n",
       "      <th>4</th>\n",
       "      <td>2</td>\n",
       "      <td>5000</td>\n",
       "      <td>100000</td>\n",
       "      <td>5</td>\n",
       "      <td>1</td>\n",
       "      <td>20</td>\n",
       "      <td>1</td>\n",
       "      <td>[1, 1]</td>\n",
       "    </tr>\n",
       "    <tr>\n",
       "      <th>5</th>\n",
       "      <td>2</td>\n",
       "      <td>5000</td>\n",
       "      <td>100000</td>\n",
       "      <td>6</td>\n",
       "      <td>4</td>\n",
       "      <td>31</td>\n",
       "      <td>0</td>\n",
       "      <td>[1, 2]</td>\n",
       "    </tr>\n",
       "  </tbody>\n",
       "</table>\n",
       "</div>"
      ],
      "text/plain": [
       "   company_id  company_employees  company_revenue  employee_id  \\\n",
       "0           1                100             1000            0   \n",
       "1           1                100             1000            1   \n",
       "2           1                100             1000            3   \n",
       "3           2               5000           100000            4   \n",
       "4           2               5000           100000            5   \n",
       "5           2               5000           100000            6   \n",
       "\n",
       "   employee_occupation  employee_age  employee_promotion       tags  \n",
       "0                    0            25                   0  [1, 2, 3]  \n",
       "1                    1            35                   1     [1, 2]  \n",
       "2                    3            45                   0     [3, 4]  \n",
       "3                    1            18                   1     [1, 4]  \n",
       "4                    1            20                   1     [1, 1]  \n",
       "5                    4            31                   0     [1, 2]  "
      ]
     },
     "execution_count": 3,
     "metadata": {},
     "output_type": "execute_result"
    }
   ],
   "source": [
    "df = pd.DataFrame(\n",
    "    [\n",
    "        (1, 100, 1000, 0, 0, 25, 0, [1, 2, 3]),\n",
    "        (1, 100, 1000, 1, 1, 35, 1, [1, 2]),\n",
    "        (1, 100, 1000, 3, 3, 45, 0, [3, 4]),\n",
    "        (2, 5000, 100000, 4, 1, 18, 1, [1, 4]),\n",
    "        (2, 5000, 100000, 5, 1, 20, 1, [1, 1]),\n",
    "        (2, 5000, 100000, 6, 4, 31, 0, [1, 2]),\n",
    "    ],\n",
    "    columns=[\n",
    "        \"company_id\",\n",
    "        \"company_employees\",\n",
    "        \"company_revenue\",\n",
    "        \"employee_id\",\n",
    "        \"employee_occupation\",\n",
    "        \"employee_age\",\n",
    "        \"employee_promotion\",\n",
    "        \"tags\",\n",
    "    ],\n",
    ")\n",
    "\n",
    "df"
   ]
  },
  {
   "cell_type": "markdown",
   "metadata": {},
   "source": [
    "## Prepare graph specs"
   ]
  },
  {
   "cell_type": "markdown",
   "metadata": {},
   "source": [
    "Graph specs instruct HexTractor, how to construct each entity. Specifically:\n",
    "\n",
    "1. Node Type Param - specifies how to build a specific, unique node (e.g. company).\n",
    "2. Edge Type Param - specifies how to build a specific, unique edge (e.g. company-employee relation).\n",
    "3. Data Source Spec - contains mulitple Node Type Params and Edge Type Params: it tells HexTractor, what kind of entities it can find in the data and how to build them.\n",
    "4. Graph Spec - contains multiple Data Source Specs: it tells HexTractor, what kind of entities it can find in the data and how to build them. From a single graph spec (With possible multiple Data Source Specs) HexTractor will build a single graph."
   ]
  },
  {
   "cell_type": "code",
   "execution_count": 17,
   "metadata": {},
   "outputs": [],
   "source": [
    "company_node_params = structures.NodeTypeParams(\n",
    "    node_type_name=\"company\",\n",
    "    id_col=\"company_id\",\n",
    "    attributes=(\"company_employees\", \"company_revenue\"),\n",
    "    attr_type=\"float\",\n",
    "    id_as_attr=True\n",
    ")\n",
    "\n",
    "company_tags_node_params = structures.NodeTypeParams(\n",
    "    node_type_name=\"tag\",\n",
    "    multivalue_source=True,\n",
    "    id_col=\"tags\",\n",
    "    id_as_attr=True\n",
    ")\n",
    "\n",
    "employee_node_params = structures.NodeTypeParams(\n",
    "    node_type_name=\"employee\",\n",
    "    id_col=\"employee_id\",\n",
    "    attributes=(\"employee_occupation\", \"employee_age\"),\n",
    "    label_col=\"employee_promotion\",\n",
    "    attr_type=\"long\",\n",
    "    id_as_attr=True\n",
    ")\n",
    "\n",
    "company_has_emp_edge_params = structures.EdgeTypeParams(\n",
    "    edge_type_name=\"has\",\n",
    "    source_name=\"company\",\n",
    "    target_name=\"employee\",\n",
    "    source_id_col=\"company_id\",\n",
    "    target_id_col=\"employee_id\",\n",
    ")\n",
    "\n",
    "company_has_tag_edge_params = structures.EdgeTypeParams(\n",
    "    edge_type_name=\"has\",\n",
    "    source_name=\"company\",\n",
    "    target_name=\"tag\",\n",
    "    source_id_col=\"company_id\",\n",
    "    target_id_col=\"tags\",\n",
    "    multivalue_target=True\n",
    ")\n",
    "\n",
    "single_df_specs = data_sources.DataFrameSpecs(\n",
    "    name=\"df1\",\n",
    "    node_params=(\n",
    "        company_node_params,\n",
    "        employee_node_params,\n",
    "        company_tags_node_params,\n",
    "    ),\n",
    "    edge_params=(company_has_emp_edge_params, company_has_tag_edge_params),\n",
    "    data_frame=df,\n",
    ")\n",
    "\n",
    "graph_specs = data_sources.GraphSpecs(data_sources=(single_df_specs,))"
   ]
  },
  {
   "cell_type": "markdown",
   "metadata": {},
   "source": [
    "## Extract graph"
   ]
  },
  {
   "cell_type": "code",
   "execution_count": 23,
   "metadata": {},
   "outputs": [],
   "source": [
    "hetero_g_single_table = hextract.extract_data(graph_specs)\n",
    "hetero_g_single_table['tag'].x = hetero_g_single_table['tag'].x.unsqueeze(-1)"
   ]
  },
  {
   "cell_type": "code",
   "execution_count": 24,
   "metadata": {},
   "outputs": [
    {
     "data": {
      "text/plain": [
       "HeteroData(\n",
       "  company={ x=[3, 3] },\n",
       "  employee={\n",
       "    x=[7, 3],\n",
       "    y=[7],\n",
       "  },\n",
       "  tag={ x=[5, 1] },\n",
       "  (company, has, employee)={ edge_index=[2, 6] },\n",
       "  (company, has, tag)={ edge_index=[2, 7] }\n",
       ")"
      ]
     },
     "execution_count": 24,
     "metadata": {},
     "output_type": "execute_result"
    }
   ],
   "source": [
    "hetero_g_single_table"
   ]
  },
  {
   "cell_type": "code",
   "execution_count": null,
   "metadata": {},
   "outputs": [
    {
     "name": "stdout",
     "output_type": "stream",
     "text": [
      "Warning: When  cdn_resources is 'local' jupyter notebook has issues displaying graphics on chrome/safari. Use cdn_resources='in_line' or cdn_resources='remote' if you have issues viewing graphics in a notebook.\n",
      "companies.html\n"
     ]
    },
    {
     "data": {
      "text/html": [
       "\n",
       "        <iframe\n",
       "            width=\"1500px\"\n",
       "            height=\"1500px\"\n",
       "            src=\"companies.html\"\n",
       "            frameborder=\"0\"\n",
       "            allowfullscreen\n",
       "            \n",
       "        ></iframe>\n",
       "        "
      ],
      "text/plain": [
       "<IPython.lib.display.IFrame at 0x7ef412ae7610>"
      ]
     },
     "execution_count": 27,
     "metadata": {},
     "output_type": "execute_result"
    }
   ],
   "source": [
    "simple_cfg = dict(\n",
    "    node_types_to_colors=dict(\n",
    "        company='red',\n",
    "        employee='green',\n",
    "        tag='blue'\n",
    "    ),\n",
    "    edge_types=((\"company\", \"has\", \"employee\"), (\"company\", \"has\", \"tag\")),\n",
    "    node_type_label_attr_name={\"company\": \"x\", \"employee\": \"x\", \"tag\": \"x\"},\n",
    "    node_type_label_attr_idx={\"company\": 2, \"employee\": 2, \"tag\": 0},\n",
    "    notebook_visualization=True\n",
    ")\n",
    "\n",
    "\n",
    "simple_viz_cfg = structures.VisualizationConfig(**simple_cfg)\n",
    "simple_net_viz = viz.VisualizationBuilder.build_visualization(simple_viz_cfg, hetero_g_single_table)\n",
    "simple_net_viz.show(\"companies.html\")"
   ]
  },
  {
   "cell_type": "markdown",
   "metadata": {},
   "source": [
    "# Multi-table data case\n",
    "\n",
    "In this case we have multiple tables, each representing different entity type. We will show how to extract graph from such data. This is how the data is usually represented in a database or a normalized data warehouse.\n",
    "\n",
    "\n",
    "This will be a typical case for a relational database, where each table represents a different entity type and relations between them."
   ]
  },
  {
   "cell_type": "code",
   "execution_count": 7,
   "metadata": {},
   "outputs": [],
   "source": [
    "df_company = pd.DataFrame(\n",
    "    {\n",
    "        \"company_id\": [1, 2],\n",
    "        \"company_employees\": [100, 5000],\n",
    "        \"company_revenue\": [1000, 100000],\n",
    "    }\n",
    ")\n",
    "\n",
    "df_employee = pd.DataFrame(\n",
    "    {\n",
    "        \"employee_id\": [0, 1, 3, 4, 5, 6],\n",
    "        \"employee_occupation\": [0, 1, 3, 1, 1, 4],\n",
    "        \"employee_age\": [25, 35, 45, 18, 20, 31],\n",
    "        \"employee_promotion\": [0, 1, 0, 1, 1, 0],\n",
    "    }\n",
    ")\n",
    "\n",
    "df_tags = pd.DataFrame({\n",
    "    'tag': [1, 2, 3, 4]\n",
    "})\n",
    "\n",
    "df_company_2_emplopyee = pd.DataFrame(\n",
    "    {\n",
    "        \"company_id\": [1, 1, 1, 2, 2, 2],\n",
    "        \"employee_id\": [0, 1, 3, 4, 5, 6],\n",
    "    }\n",
    ")\n",
    "\n",
    "df_company_2_tag = pd.DataFrame(\n",
    "    {\n",
    "        \"company_id\": [1, 1, 1, 2, 2, 2],\n",
    "        \"tags\": [[1, 2, 3], [1, 2], [3, 4], [1, 4], [1, 1], [1, 2]],\n",
    "    }\n",
    ")"
   ]
  },
  {
   "cell_type": "code",
   "execution_count": 8,
   "metadata": {},
   "outputs": [
    {
     "data": {
      "text/html": [
       "<div>\n",
       "<style scoped>\n",
       "    .dataframe tbody tr th:only-of-type {\n",
       "        vertical-align: middle;\n",
       "    }\n",
       "\n",
       "    .dataframe tbody tr th {\n",
       "        vertical-align: top;\n",
       "    }\n",
       "\n",
       "    .dataframe thead th {\n",
       "        text-align: right;\n",
       "    }\n",
       "</style>\n",
       "<table border=\"1\" class=\"dataframe\">\n",
       "  <thead>\n",
       "    <tr style=\"text-align: right;\">\n",
       "      <th></th>\n",
       "      <th>company_id</th>\n",
       "      <th>company_employees</th>\n",
       "      <th>company_revenue</th>\n",
       "    </tr>\n",
       "  </thead>\n",
       "  <tbody>\n",
       "    <tr>\n",
       "      <th>0</th>\n",
       "      <td>1</td>\n",
       "      <td>100</td>\n",
       "      <td>1000</td>\n",
       "    </tr>\n",
       "    <tr>\n",
       "      <th>1</th>\n",
       "      <td>2</td>\n",
       "      <td>5000</td>\n",
       "      <td>100000</td>\n",
       "    </tr>\n",
       "  </tbody>\n",
       "</table>\n",
       "</div>"
      ],
      "text/plain": [
       "   company_id  company_employees  company_revenue\n",
       "0           1                100             1000\n",
       "1           2               5000           100000"
      ]
     },
     "execution_count": 8,
     "metadata": {},
     "output_type": "execute_result"
    }
   ],
   "source": [
    "df_company"
   ]
  },
  {
   "cell_type": "code",
   "execution_count": 9,
   "metadata": {},
   "outputs": [
    {
     "data": {
      "text/html": [
       "<div>\n",
       "<style scoped>\n",
       "    .dataframe tbody tr th:only-of-type {\n",
       "        vertical-align: middle;\n",
       "    }\n",
       "\n",
       "    .dataframe tbody tr th {\n",
       "        vertical-align: top;\n",
       "    }\n",
       "\n",
       "    .dataframe thead th {\n",
       "        text-align: right;\n",
       "    }\n",
       "</style>\n",
       "<table border=\"1\" class=\"dataframe\">\n",
       "  <thead>\n",
       "    <tr style=\"text-align: right;\">\n",
       "      <th></th>\n",
       "      <th>employee_id</th>\n",
       "      <th>employee_occupation</th>\n",
       "      <th>employee_age</th>\n",
       "      <th>employee_promotion</th>\n",
       "    </tr>\n",
       "  </thead>\n",
       "  <tbody>\n",
       "    <tr>\n",
       "      <th>0</th>\n",
       "      <td>0</td>\n",
       "      <td>0</td>\n",
       "      <td>25</td>\n",
       "      <td>0</td>\n",
       "    </tr>\n",
       "    <tr>\n",
       "      <th>1</th>\n",
       "      <td>1</td>\n",
       "      <td>1</td>\n",
       "      <td>35</td>\n",
       "      <td>1</td>\n",
       "    </tr>\n",
       "    <tr>\n",
       "      <th>2</th>\n",
       "      <td>3</td>\n",
       "      <td>3</td>\n",
       "      <td>45</td>\n",
       "      <td>0</td>\n",
       "    </tr>\n",
       "    <tr>\n",
       "      <th>3</th>\n",
       "      <td>4</td>\n",
       "      <td>1</td>\n",
       "      <td>18</td>\n",
       "      <td>1</td>\n",
       "    </tr>\n",
       "    <tr>\n",
       "      <th>4</th>\n",
       "      <td>5</td>\n",
       "      <td>1</td>\n",
       "      <td>20</td>\n",
       "      <td>1</td>\n",
       "    </tr>\n",
       "    <tr>\n",
       "      <th>5</th>\n",
       "      <td>6</td>\n",
       "      <td>4</td>\n",
       "      <td>31</td>\n",
       "      <td>0</td>\n",
       "    </tr>\n",
       "  </tbody>\n",
       "</table>\n",
       "</div>"
      ],
      "text/plain": [
       "   employee_id  employee_occupation  employee_age  employee_promotion\n",
       "0            0                    0            25                   0\n",
       "1            1                    1            35                   1\n",
       "2            3                    3            45                   0\n",
       "3            4                    1            18                   1\n",
       "4            5                    1            20                   1\n",
       "5            6                    4            31                   0"
      ]
     },
     "execution_count": 9,
     "metadata": {},
     "output_type": "execute_result"
    }
   ],
   "source": [
    "df_employee"
   ]
  },
  {
   "cell_type": "code",
   "execution_count": 10,
   "metadata": {},
   "outputs": [
    {
     "data": {
      "text/html": [
       "<div>\n",
       "<style scoped>\n",
       "    .dataframe tbody tr th:only-of-type {\n",
       "        vertical-align: middle;\n",
       "    }\n",
       "\n",
       "    .dataframe tbody tr th {\n",
       "        vertical-align: top;\n",
       "    }\n",
       "\n",
       "    .dataframe thead th {\n",
       "        text-align: right;\n",
       "    }\n",
       "</style>\n",
       "<table border=\"1\" class=\"dataframe\">\n",
       "  <thead>\n",
       "    <tr style=\"text-align: right;\">\n",
       "      <th></th>\n",
       "      <th>tag</th>\n",
       "    </tr>\n",
       "  </thead>\n",
       "  <tbody>\n",
       "    <tr>\n",
       "      <th>0</th>\n",
       "      <td>1</td>\n",
       "    </tr>\n",
       "    <tr>\n",
       "      <th>1</th>\n",
       "      <td>2</td>\n",
       "    </tr>\n",
       "    <tr>\n",
       "      <th>2</th>\n",
       "      <td>3</td>\n",
       "    </tr>\n",
       "    <tr>\n",
       "      <th>3</th>\n",
       "      <td>4</td>\n",
       "    </tr>\n",
       "  </tbody>\n",
       "</table>\n",
       "</div>"
      ],
      "text/plain": [
       "   tag\n",
       "0    1\n",
       "1    2\n",
       "2    3\n",
       "3    4"
      ]
     },
     "execution_count": 10,
     "metadata": {},
     "output_type": "execute_result"
    }
   ],
   "source": [
    "df_tags"
   ]
  },
  {
   "cell_type": "code",
   "execution_count": 11,
   "metadata": {},
   "outputs": [
    {
     "data": {
      "text/html": [
       "<div>\n",
       "<style scoped>\n",
       "    .dataframe tbody tr th:only-of-type {\n",
       "        vertical-align: middle;\n",
       "    }\n",
       "\n",
       "    .dataframe tbody tr th {\n",
       "        vertical-align: top;\n",
       "    }\n",
       "\n",
       "    .dataframe thead th {\n",
       "        text-align: right;\n",
       "    }\n",
       "</style>\n",
       "<table border=\"1\" class=\"dataframe\">\n",
       "  <thead>\n",
       "    <tr style=\"text-align: right;\">\n",
       "      <th></th>\n",
       "      <th>company_id</th>\n",
       "      <th>employee_id</th>\n",
       "    </tr>\n",
       "  </thead>\n",
       "  <tbody>\n",
       "    <tr>\n",
       "      <th>0</th>\n",
       "      <td>1</td>\n",
       "      <td>0</td>\n",
       "    </tr>\n",
       "    <tr>\n",
       "      <th>1</th>\n",
       "      <td>1</td>\n",
       "      <td>1</td>\n",
       "    </tr>\n",
       "    <tr>\n",
       "      <th>2</th>\n",
       "      <td>1</td>\n",
       "      <td>3</td>\n",
       "    </tr>\n",
       "    <tr>\n",
       "      <th>3</th>\n",
       "      <td>2</td>\n",
       "      <td>4</td>\n",
       "    </tr>\n",
       "    <tr>\n",
       "      <th>4</th>\n",
       "      <td>2</td>\n",
       "      <td>5</td>\n",
       "    </tr>\n",
       "    <tr>\n",
       "      <th>5</th>\n",
       "      <td>2</td>\n",
       "      <td>6</td>\n",
       "    </tr>\n",
       "  </tbody>\n",
       "</table>\n",
       "</div>"
      ],
      "text/plain": [
       "   company_id  employee_id\n",
       "0           1            0\n",
       "1           1            1\n",
       "2           1            3\n",
       "3           2            4\n",
       "4           2            5\n",
       "5           2            6"
      ]
     },
     "execution_count": 11,
     "metadata": {},
     "output_type": "execute_result"
    }
   ],
   "source": [
    "df_company_2_emplopyee"
   ]
  },
  {
   "cell_type": "code",
   "execution_count": 12,
   "metadata": {},
   "outputs": [
    {
     "data": {
      "text/html": [
       "<div>\n",
       "<style scoped>\n",
       "    .dataframe tbody tr th:only-of-type {\n",
       "        vertical-align: middle;\n",
       "    }\n",
       "\n",
       "    .dataframe tbody tr th {\n",
       "        vertical-align: top;\n",
       "    }\n",
       "\n",
       "    .dataframe thead th {\n",
       "        text-align: right;\n",
       "    }\n",
       "</style>\n",
       "<table border=\"1\" class=\"dataframe\">\n",
       "  <thead>\n",
       "    <tr style=\"text-align: right;\">\n",
       "      <th></th>\n",
       "      <th>company_id</th>\n",
       "      <th>tags</th>\n",
       "    </tr>\n",
       "  </thead>\n",
       "  <tbody>\n",
       "    <tr>\n",
       "      <th>0</th>\n",
       "      <td>1</td>\n",
       "      <td>[1, 2, 3]</td>\n",
       "    </tr>\n",
       "    <tr>\n",
       "      <th>1</th>\n",
       "      <td>1</td>\n",
       "      <td>[1, 2]</td>\n",
       "    </tr>\n",
       "    <tr>\n",
       "      <th>2</th>\n",
       "      <td>1</td>\n",
       "      <td>[3, 4]</td>\n",
       "    </tr>\n",
       "    <tr>\n",
       "      <th>3</th>\n",
       "      <td>2</td>\n",
       "      <td>[1, 4]</td>\n",
       "    </tr>\n",
       "    <tr>\n",
       "      <th>4</th>\n",
       "      <td>2</td>\n",
       "      <td>[1, 1]</td>\n",
       "    </tr>\n",
       "    <tr>\n",
       "      <th>5</th>\n",
       "      <td>2</td>\n",
       "      <td>[1, 2]</td>\n",
       "    </tr>\n",
       "  </tbody>\n",
       "</table>\n",
       "</div>"
      ],
      "text/plain": [
       "   company_id       tags\n",
       "0           1  [1, 2, 3]\n",
       "1           1     [1, 2]\n",
       "2           1     [3, 4]\n",
       "3           2     [1, 4]\n",
       "4           2     [1, 1]\n",
       "5           2     [1, 2]"
      ]
     },
     "execution_count": 12,
     "metadata": {},
     "output_type": "execute_result"
    }
   ],
   "source": [
    "df_company_2_tag"
   ]
  },
  {
   "cell_type": "markdown",
   "metadata": {},
   "source": [
    "## Prepare graph specs"
   ]
  },
  {
   "cell_type": "markdown",
   "metadata": {},
   "source": [
    "This time - NodeTypeParams and EdgeTypeParams will be defined for each table separately. Therefore we will have multiple Data Source Specs."
   ]
  },
  {
   "cell_type": "code",
   "execution_count": 13,
   "metadata": {},
   "outputs": [],
   "source": [
    "company_node_params = structures.NodeTypeParams(\n",
    "    node_type_name=\"company\",\n",
    "    id_col=\"company_id\",\n",
    "    attributes=(\"company_employees\", \"company_revenue\"),\n",
    "    attr_type=\"float\",\n",
    ")\n",
    "company_df_source = data_sources.DataFrameSpecs(\n",
    "    name=\"df1\", node_params=(company_node_params,), data_frame=df_company\n",
    ")\n",
    "\n",
    "company_tags_node_params = structures.NodeTypeParams(\n",
    "    node_type_name=\"tag\",\n",
    "    multivalue_source=False,\n",
    "    id_col=\"tag\",\n",
    "    id_as_attr=True,\n",
    ")\n",
    "tag_df_source = data_sources.DataFrameSpecs(\n",
    "    name=\"df2\", node_params=(company_tags_node_params,), data_frame=df_tags\n",
    ")\n",
    "\n",
    "employee_node_params = structures.NodeTypeParams(\n",
    "    node_type_name=\"employee\",\n",
    "    id_col=\"employee_id\",\n",
    "    attributes=(\"employee_occupation\", \"employee_age\"),\n",
    "    label_col=\"employee_promotion\",\n",
    "    attr_type=\"long\",\n",
    ")\n",
    "employee_df_source = data_sources.DataFrameSpecs(\n",
    "    name=\"df3\", node_params=(employee_node_params,), data_frame=df_employee\n",
    ")\n",
    "\n",
    "company_has_emp_edge_params = structures.EdgeTypeParams(\n",
    "    edge_type_name=\"has\",\n",
    "    source_name=\"company\",\n",
    "    target_name=\"employee\",\n",
    "    source_id_col=\"company_id\",\n",
    "    target_id_col=\"employee_id\",\n",
    ")\n",
    "company_has_emp_edge_df_source = data_sources.DataFrameSpecs(\n",
    "    name=\"df4\",\n",
    "    edge_params=(company_has_emp_edge_params,),\n",
    "    data_frame=df_company_2_emplopyee,\n",
    ")\n",
    "\n",
    "company_has_tag_edge_params = structures.EdgeTypeParams(\n",
    "    edge_type_name=\"has\",\n",
    "    source_name=\"company\",\n",
    "    target_name=\"tag\",\n",
    "    source_id_col=\"company_id\",\n",
    "    target_id_col=\"tags\",\n",
    "    multivalue_target=True,\n",
    ")\n",
    "company_has_tag_edge_df_source = data_sources.DataFrameSpecs(\n",
    "    name=\"df5\",\n",
    "    edge_params=(company_has_tag_edge_params,),\n",
    "    data_frame=df_company_2_tag,\n",
    ")\n",
    "\n",
    "graph_specs_multisource = data_sources.GraphSpecs(\n",
    "    data_sources=(\n",
    "        company_df_source,\n",
    "        employee_df_source,\n",
    "        tag_df_source,\n",
    "        company_has_emp_edge_df_source,\n",
    "        company_has_tag_edge_df_source,\n",
    "    )\n",
    ")"
   ]
  },
  {
   "cell_type": "markdown",
   "metadata": {},
   "source": [
    "### Extract graph"
   ]
  },
  {
   "cell_type": "code",
   "execution_count": 14,
   "metadata": {},
   "outputs": [],
   "source": [
    "hetero_g_multi = hextract.extract_data(graph_specs_multisource)"
   ]
  },
  {
   "cell_type": "code",
   "execution_count": 15,
   "metadata": {},
   "outputs": [
    {
     "data": {
      "text/plain": [
       "HeteroData(\n",
       "  company={ x=[3, 2] },\n",
       "  employee={\n",
       "    x=[7, 2],\n",
       "    y=[7],\n",
       "  },\n",
       "  tag={ x=[5] },\n",
       "  (company, has, employee)={ edge_index=[2, 6] },\n",
       "  (company, has, tag)={ edge_index=[2, 7] }\n",
       ")"
      ]
     },
     "execution_count": 15,
     "metadata": {},
     "output_type": "execute_result"
    }
   ],
   "source": [
    "hetero_g_multi"
   ]
  },
  {
   "cell_type": "markdown",
   "metadata": {},
   "source": [
    "# Graphs extracted in both cases should be equivalent"
   ]
  },
  {
   "cell_type": "code",
   "execution_count": 16,
   "metadata": {},
   "outputs": [
    {
     "data": {
      "text/plain": [
       "HeteroData(\n",
       "  company={ x=[3, 2] },\n",
       "  employee={\n",
       "    x=[7, 2],\n",
       "    y=[7],\n",
       "  },\n",
       "  tag={ x=[5] },\n",
       "  (company, has, employee)={ edge_index=[2, 6] },\n",
       "  (company, has, tag)={ edge_index=[2, 7] }\n",
       ")"
      ]
     },
     "execution_count": 16,
     "metadata": {},
     "output_type": "execute_result"
    }
   ],
   "source": [
    "hetero_g_single_table"
   ]
  },
  {
   "cell_type": "code",
   "execution_count": 17,
   "metadata": {},
   "outputs": [
    {
     "data": {
      "text/plain": [
       "HeteroData(\n",
       "  company={ x=[3, 2] },\n",
       "  employee={\n",
       "    x=[7, 2],\n",
       "    y=[7],\n",
       "  },\n",
       "  tag={ x=[5] },\n",
       "  (company, has, employee)={ edge_index=[2, 6] },\n",
       "  (company, has, tag)={ edge_index=[2, 7] }\n",
       ")"
      ]
     },
     "execution_count": 17,
     "metadata": {},
     "output_type": "execute_result"
    }
   ],
   "source": [
    "hetero_g_multi"
   ]
  },
  {
   "cell_type": "markdown",
   "metadata": {},
   "source": [
    "Pay attention especially, on to how **Tag** entity was extracted from multi-values source column. We have selected an option to **squeeze single dim** - tag has only an ID, so we ensure, that is it a tensor with only one dimension. Otherwise we could have set an option **squeeze single dim** to False, which would result in a tensor with two dimensions: (N x 1). Different DL models might require different input shapes, so this option is important."
   ]
  }
 ],
 "metadata": {
  "kernelspec": {
   "display_name": "hextractor_env",
   "language": "python",
   "name": "python3"
  },
  "language_info": {
   "codemirror_mode": {
    "name": "ipython",
    "version": 3
   },
   "file_extension": ".py",
   "mimetype": "text/x-python",
   "name": "python",
   "nbconvert_exporter": "python",
   "pygments_lexer": "ipython3",
   "version": "3.11.10"
  }
 },
 "nbformat": 4,
 "nbformat_minor": 2
}
