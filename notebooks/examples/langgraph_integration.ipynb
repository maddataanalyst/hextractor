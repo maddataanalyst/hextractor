{
 "cells": [
  {
   "cell_type": "markdown",
   "metadata": {},
   "source": [
    "# Intro\n",
    "\n",
    "This notebook presents how to use HeXtractor to turn text data into heterogeneous graph using LLM structured ouput - LLMGraphTransformer from Lanchain."
   ]
  },
  {
   "cell_type": "markdown",
   "metadata": {},
   "source": [
    "# Lib imports"
   ]
  },
  {
   "cell_type": "code",
   "execution_count": 22,
   "metadata": {},
   "outputs": [],
   "source": [
    "import autoroot #noqa\n",
    "from langchain_community.graphs.graph_document import GraphDocument, Node, Relationship\n",
    "from langchain_experimental.graph_transformers import LLMGraphTransformer\n",
    "from langchain_core.documents import Document\n",
    "from collections import defaultdict\n",
    "\n",
    "from langchain_openai import ChatOpenAI\n",
    "\n",
    "import hextractor.integrations.langchain_graphdoc as langchain2graph\n",
    "import hextractor.structures as structures\n",
    "import hextractor.visualization as viz"
   ]
  },
  {
   "cell_type": "markdown",
   "metadata": {},
   "source": [
    "# LLM config"
   ]
  },
  {
   "cell_type": "markdown",
   "metadata": {},
   "source": [
    "You can configure the any Langchain-compatible LLM model here. It must be a model that can be used with the `LLMGraphTransformer`. \n",
    "\n",
    "Example config below:\n",
    "\n",
    "```python\n",
    "base_url = \"YOUR_BASE_URL\"\n",
    "api_key = \"YOUR_API_KEY\"\n",
    "\n",
    "llm = ChatOpenAI(base_url=base_url, api_key=api_key)\n",
    "llm_graph_transformer = LLMGraphTransformer(llm=llm)\n",
    "```\n",
    "\n",
    "\n",
    "Example usage:\n",
    "\n",
    "```python\n",
    "text = \"\"\"Filip Wójcik and Marcin Malczewski are data scientists, who developed HeXtractor. It is a library\n",
    "that helps in extracting heterogeneous knowledge graphs from various data source.\n",
    "Heterogeneous knowledge graphs are graphs that contain different types of nodes and edges.\"\"\"\n",
    "\n",
    "docs = [Document(page_content=text)]\n",
    "\n",
    "data = await llm_graph_transformer.aconvert_to_graph_documents(docs)\n",
    "```"
   ]
  },
  {
   "cell_type": "markdown",
   "metadata": {},
   "source": [
    "# GraphDocument extraction"
   ]
  },
  {
   "cell_type": "markdown",
   "metadata": {},
   "source": [
    "Below we will manually construct graph_doc for the sake of the example. You can use the real output if you want."
   ]
  },
  {
   "cell_type": "code",
   "execution_count": 23,
   "metadata": {},
   "outputs": [],
   "source": [
    "text = \"\"\"Filip Wójcik and Marcin Malczewski are data scientists, who developed HeXtractor. It is a library\n",
    "that helps in extracting heterogeneous knowledge graphs from various data source.\n",
    "Heterogeneous knowledge graphs are graphs that contain different types of nodes and edges.\"\"\"\n",
    "\n",
    "docs = [Document(page_content=text)]"
   ]
  },
  {
   "cell_type": "code",
   "execution_count": 24,
   "metadata": {},
   "outputs": [],
   "source": [
    "use_real_llm = False\n",
    "if use_real_llm:\n",
    "    base_url = \"YOUR_BASE_URL\"\n",
    "    api_key = \"YOUR_API_KEY\"\n",
    "\n",
    "    llm = ChatOpenAI(base_url=base_url, api_key=api_key)\n",
    "    llm_graph_transformer = LLMGraphTransformer(llm=llm)\n",
    "\n",
    "    data = await llm_graph_transformer.aconvert_to_graph_documents(docs)\n",
    "else:\n",
    "    fw_node = Node(type=\"Person\", id=\"Filip Wójcik\")\n",
    "    mm_node = Node(type=\"Person\", id=\"Marcin Malczewski\")\n",
    "    hx_node = Node(type=\"Library\", id=\"HeXtractor\")\n",
    "    kg_node = Node(type=\"Graph\", id=\"Heterogeneous knowledge graph\")\n",
    "\n",
    "    fw_developed_hx = Relationship(source=fw_node, target=hx_node, type=\"Developed\")\n",
    "    mm_developer_hx = Relationship(source=mm_node, target=hx_node, type=\"Developed\")\n",
    "    hx_extracts_kg = Relationship(source=hx_node, target=kg_node, type=\"Extracts\")\n",
    "\n",
    "    data = [\n",
    "        GraphDocument(\n",
    "            nodes=[fw_node, mm_node, hx_node, kg_node], \n",
    "            relationships=[fw_developed_hx, mm_developer_hx, hx_extracts_kg],\n",
    "            source=docs[0]\n",
    "            )\n",
    "        ]\n"
   ]
  },
  {
   "cell_type": "code",
   "execution_count": 25,
   "metadata": {},
   "outputs": [
    {
     "name": "stdout",
     "output_type": "stream",
     "text": [
      "id='Filip Wójcik' type='Person' properties={}\n",
      "id='Marcin Malczewski' type='Person' properties={}\n",
      "id='HeXtractor' type='Library' properties={}\n",
      "id='Heterogeneous knowledge graph' type='Graph' properties={}\n"
     ]
    }
   ],
   "source": [
    "graph_doc = data[0]\n",
    "for node in graph_doc.nodes:\n",
    "    print(node)"
   ]
  },
  {
   "cell_type": "code",
   "execution_count": 26,
   "metadata": {},
   "outputs": [
    {
     "name": "stdout",
     "output_type": "stream",
     "text": [
      "source=Node(id='Filip Wójcik', type='Person', properties={}) target=Node(id='HeXtractor', type='Library', properties={}) type='Developed' properties={}\n",
      "source=Node(id='Marcin Malczewski', type='Person', properties={}) target=Node(id='HeXtractor', type='Library', properties={}) type='Developed' properties={}\n",
      "source=Node(id='HeXtractor', type='Library', properties={}) target=Node(id='Heterogeneous knowledge graph', type='Graph', properties={}) type='Extracts' properties={}\n"
     ]
    }
   ],
   "source": [
    "for rel in graph_doc.relationships:\n",
    "   print(rel) "
   ]
  },
  {
   "cell_type": "markdown",
   "metadata": {},
   "source": [
    "# Automatic hetero data extraction"
   ]
  },
  {
   "cell_type": "code",
   "execution_count": 27,
   "metadata": {},
   "outputs": [
    {
     "data": {
      "text/plain": [
       "HeteroData(\n",
       "  Person={ x=[2, 1] },\n",
       "  Library={ x=[1, 1] },\n",
       "  Graph={ x=[1, 1] },\n",
       "  (Library, Extracts, Graph)={ edge_index=[2, 1] },\n",
       "  (Person, Developed, Library)={ edge_index=[2, 2] }\n",
       ")"
      ]
     },
     "execution_count": 27,
     "metadata": {},
     "output_type": "execute_result"
    }
   ],
   "source": [
    "hetero_data, node_mapping = langchain2graph.convert_graph_document_to_hetero_data(graph_doc)\n",
    "hetero_data"
   ]
  },
  {
   "cell_type": "markdown",
   "metadata": {},
   "source": [
    "## Visualization"
   ]
  },
  {
   "cell_type": "code",
   "execution_count": 28,
   "metadata": {},
   "outputs": [],
   "source": [
    "mapped_node_names = defaultdict(lambda: dict())\n",
    "for (type, name), id in node_mapping.items():\n",
    "    mapped_node_names[type][id] = name"
   ]
  },
  {
   "cell_type": "code",
   "execution_count": 29,
   "metadata": {},
   "outputs": [
    {
     "name": "stdout",
     "output_type": "stream",
     "text": [
      "Warning: When  cdn_resources is 'local' jupyter notebook has issues displaying graphics on chrome/safari. Use cdn_resources='in_line' or cdn_resources='remote' if you have issues viewing graphics in a notebook.\n",
      "llm_graph.html\n"
     ]
    },
    {
     "data": {
      "text/html": [
       "\n",
       "        <iframe\n",
       "            width=\"1500px\"\n",
       "            height=\"1500px\"\n",
       "            src=\"llm_graph.html\"\n",
       "            frameborder=\"0\"\n",
       "            allowfullscreen\n",
       "            \n",
       "        ></iframe>\n",
       "        "
      ],
      "text/plain": [
       "<IPython.lib.display.IFrame at 0x7d2463bdab50>"
      ]
     },
     "execution_count": 29,
     "metadata": {},
     "output_type": "execute_result"
    }
   ],
   "source": [
    "simple_cfg = dict(\n",
    "    node_types_to_colors=dict(\n",
    "        Person='red',\n",
    "        Library='green',\n",
    "        Graph='blue'\n",
    "    ),\n",
    "    edge_type_to_colors={\n",
    "        ('Library', 'Extracts', 'Graph'): 'black',\n",
    "        ('Person', 'Developed', 'Library'): 'purple'\n",
    "    },\n",
    "    node_type_label_attr_name={\"Person\": \"x\", \"Library\": \"x\", \"Graph\": \"x\"},\n",
    "    node_type_label_attr_idx={\"Person\": 0, \"Library\": 0, \"Graph\": 0},\n",
    "    notebook_visualization=True\n",
    ")\n",
    "\n",
    "\n",
    "\n",
    "simple_viz_cfg = structures.VisualizationConfig(**simple_cfg)\n",
    "simple_net_viz = viz.VisualizationBuilder.build_visualization(simple_viz_cfg, hetero_data, mapped_node_names)\n",
    "simple_net_viz.show(name=\"llm_graph.html\")"
   ]
  },
  {
   "cell_type": "markdown",
   "metadata": {},
   "source": [
    "# Example of an invalid graph data from LLM"
   ]
  },
  {
   "cell_type": "code",
   "execution_count": 30,
   "metadata": {},
   "outputs": [],
   "source": [
    "doc = Document(page_content=\"Michael Scott knows Pam and Elon Musk.\")\n",
    "node_michael = Node(id=\"Michael Scott\", type=\"Person\")\n",
    "node_pam = Node(id=\"Pam\", type=\"Person\")\n",
    "node_elon_musk = Node(id=\"Elon Musk\", type=\"Person\")\n",
    "\n",
    "\n",
    "invalid_gd = GraphDocument(\n",
    "    nodes=[\n",
    "        node_michael,\n",
    "        node_pam,\n",
    "    ],\n",
    "    relationships=[\n",
    "        Relationship(source=node_michael, target=node_pam, type=\"knows\"),\n",
    "        Relationship(source=node_michael, target=node_elon_musk, type=\"knows\"),\n",
    "    ],\n",
    "    source=doc\n",
    ")"
   ]
  },
  {
   "cell_type": "code",
   "execution_count": 32,
   "metadata": {},
   "outputs": [
    {
     "name": "stdout",
     "output_type": "stream",
     "text": [
      "Unknown target node: Elon Musk of type Person\n"
     ]
    }
   ],
   "source": [
    "try:\n",
    "    invlid_hetero_g = langchain2graph.convert_graph_document_to_hetero_data(invalid_gd)\n",
    "except ValueError as e:\n",
    "    print(e)"
   ]
  }
 ],
 "metadata": {
  "kernelspec": {
   "display_name": "hextractor_env",
   "language": "python",
   "name": "python3"
  },
  "language_info": {
   "codemirror_mode": {
    "name": "ipython",
    "version": 3
   },
   "file_extension": ".py",
   "mimetype": "text/x-python",
   "name": "python",
   "nbconvert_exporter": "python",
   "pygments_lexer": "ipython3",
   "version": "3.11.10"
  }
 },
 "nbformat": 4,
 "nbformat_minor": 2
}
